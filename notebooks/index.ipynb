{
 "cells": [
  {
   "cell_type": "markdown",
   "metadata": {},
   "source": [
    "# AI Playbook"
   ]
  },
  {
   "cell_type": "markdown",
   "metadata": {},
   "source": [
    "Templates and code blocks for AI and Machine Learning in Bukalapak"
   ]
  },
  {
   "cell_type": "markdown",
   "metadata": {},
   "source": [
    "# Modeling\n",
    "- [Data Collection & Preprocessing](https://wiraindrak.github.io/aiplaybook/pages/datacollection_basic)\n",
    "- [Exploratory Data Analysis](https://wiraindrak.github.io/aiplaybook/pages/datacollection_basic)\n",
    "    - [Text Analysis](https://wiraindrak.github.io/aiplaybook/pages/datacollection_basic)\n",
    "    - [Image Analysis](https://wiraindrak.github.io/aiplaybook/pages/datacollection_basic)\n",
    "- [Feature Engineering](https://wiraindrak.github.io/aiplaybook/pages/datacollection_basic)\n",
    "    - [Text Feature Engineering](https://wiraindrak.github.io/aiplaybook/pages/datacollection_basic)\n",
    "    - [Image Feature Engineering](https://wiraindrak.github.io/aiplaybook/pages/datacollection_basic)\n",
    "- [Modelling Frameworks](https://wiraindrak.github.io/aiplaybook/pages/datacollection_basic)\n",
    "- [Model Evaluation & Analysis](https://wiraindrak.github.io/aiplaybook/pages/datacollection_basic)\n",
    "- [Data Visualization](https://wiraindrak.github.io/aiplaybook/pages/datacollection_basic)\n",
    "\n",
    "# Production-Ready Scripts\n",
    "- [Data Collection](https://wiraindrak.github.io/aiplaybook/pages/datacollection_basic)\n",
    "- [Training](https://wiraindrak.github.io/aiplaybook/pages/datacollection_basic)\n",
    "- [Evaluation](https://wiraindrak.github.io/aiplaybook/pages/datacollection_basic)\n",
    "\n",
    "# End-to-End Modelling Template\n",
    "- [Text Classification](https://wiraindrak.github.io/aiplaybook/pages/datacollection_basic)\n",
    "- [Image Classification](https://wiraindrak.github.io/aiplaybook/pages/datacollection_basic)"
   ]
  },
  {
   "cell_type": "markdown",
   "metadata": {},
   "source": []
  }
 ],
 "metadata": {
  "kernelspec": {
   "display_name": "Python 3.9.5 ('base')",
   "language": "python",
   "name": "python3"
  },
  "language_info": {
   "name": "python",
   "version": "3.9.5"
  },
  "orig_nbformat": 4,
  "vscode": {
   "interpreter": {
    "hash": "b236d7ca848f23544381af5bc23a6224ffd3e3b721f4a70629ec16adbefb98ce"
   }
  }
 },
 "nbformat": 4,
 "nbformat_minor": 2
}
