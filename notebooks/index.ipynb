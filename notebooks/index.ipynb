{
 "cells": [
  {
   "cell_type": "markdown",
   "metadata": {},
   "source": [
    "# AI Playbook"
   ]
  },
  {
   "cell_type": "markdown",
   "metadata": {},
   "source": [
    "Personal notebook for AI and Machine Learning basics and use cases."
   ]
  },
  {
   "cell_type": "markdown",
   "metadata": {},
   "source": [
    "- Author  : Wira Indra Kusuma\n",
    "- Email   : wiraindrak@gmail.com"
   ]
  },
  {
   "cell_type": "markdown",
   "metadata": {},
   "source": [
    "# Table of Contents\n",
    "## Modeling\n",
    "- [Data Collection & Preprocessing](https://wiraindrak.github.io/aiplaybook/pages/datacollection_basic)\n",
    "- [Exploratory Data Analysis](https://wiraindrak.github.io/aiplaybook/pages/datacollection_basic)\n",
    "    - [Text Analysis](https://wiraindrak.github.io/aiplaybook/pages/datacollection_basic)\n",
    "    - [Image Analysis](https://wiraindrak.github.io/aiplaybook/pages/datacollection_basic)\n",
    "- [Feature Engineering](https://wiraindrak.github.io/aiplaybook/pages/datacollection_basic)\n",
    "    - [Text Feature Engineering](https://wiraindrak.github.io/aiplaybook/pages/datacollection_basic)\n",
    "    - [Image Feature Engineering](https://wiraindrak.github.io/aiplaybook/pages/datacollection_basic)\n",
    "- [Modelling Frameworks](https://wiraindrak.github.io/aiplaybook/pages/datacollection_basic)\n",
    "- [Model Evaluation & Analysis](https://wiraindrak.github.io/aiplaybook/pages/datacollection_basic)\n",
    "- [Data Visualization](https://wiraindrak.github.io/aiplaybook/pages/datacollection_basic)\n",
    "\n",
    "## Production-Ready Scripts\n",
    "- [Data Collection](https://wiraindrak.github.io/aiplaybook/pages/datacollection_basic)\n",
    "- [Training](https://wiraindrak.github.io/aiplaybook/pages/datacollection_basic)\n",
    "- [Evaluation](https://wiraindrak.github.io/aiplaybook/pages/datacollection_basic)\n",
    "\n",
    "## End-to-End Modelling Template\n",
    "- [Text Classification](https://wiraindrak.github.io/aiplaybook/pages/datacollection_basic)\n",
    "- [Image Classification](https://wiraindrak.github.io/aiplaybook/pages/datacollection_basic)"
   ]
  }
 ],
 "metadata": {
  "kernelspec": {
   "display_name": "Python 3.8.2 64-bit",
   "language": "python",
   "name": "python3"
  },
  "language_info": {
   "name": "python",
   "version": "3.8.2"
  },
  "orig_nbformat": 4,
  "vscode": {
   "interpreter": {
    "hash": "916dbcbb3f70747c44a77c7bcd40155683ae19c65e1c03b4aa3499c5328201f1"
   }
  }
 },
 "nbformat": 4,
 "nbformat_minor": 2
}
